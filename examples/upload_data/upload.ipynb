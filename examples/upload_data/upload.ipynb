{
 "cells": [
  {
   "cell_type": "code",
   "execution_count": 1,
   "metadata": {},
   "outputs": [],
   "source": [
    "import os\n",
    "import glob\n",
    "import sys\n",
    "import requests\n",
    "import json\n",
    "import pandas as pd\n",
    "import math\n",
    "from tqdm import tqdm\n",
    "import shutil\n",
    "import uuid\n",
    "from pathlib import Path\n",
    "\n",
    "\n",
    "ROOT_DIR = '' # Path to the folder containing the audio files\n",
    "UUID_DEST_DIR = f'{ROOT_DIR}uuids_for_upload/' # Path to the folder where the uuid named files will be stored\n",
    "\n",
    "reference_transcription = None\n",
    "host = \"\" # Host URL\n",
    "is_marked_for_review = False\n",
    "segmentations = []\n",
    "api_key = '' # API key\n",
    "headers = {\"Authorization\": api_key}\n",
    "audio_metadata_list = pd.read_csv('q2_segmented_audio_list.csv')\n",
    "\n",
    "usernames = [f'annotator_{i}' for i in range(1, 6)]\n",
    "# usernames = ['admin']\n",
    "audio_files = [folder for folder in os.listdir(ROOT_DIR) if (folder != '.DS_Store') and (len(folder.split('.')) < 2)]\n",
    "sub_audio_files = { f'{audio_file}': glob.glob(f'{ROOT_DIR}/{audio_file}/*.mp3') for audio_file in audio_files }"
   ]
  },
  {
   "cell_type": "code",
   "execution_count": 2,
   "metadata": {},
   "outputs": [
    {
     "name": "stderr",
     "output_type": "stream",
     "text": [
      "100%|██████████| 99042/99042 [00:41<00:00, 2391.73it/s]\n"
     ]
    }
   ],
   "source": [
    "# Create a UUID named file for each audio file\n",
    "original_to_uuid = {}\n",
    "\n",
    "audio_file_paths = [audio_file_list for audio_file_list in sub_audio_files.values()]\n",
    "# flatten the list\n",
    "audio_file_paths = [item for sublist in audio_file_paths for item in sublist]\n",
    "\n",
    "for original_audio_file in tqdm(audio_file_paths):\n",
    "    extension = Path(original_audio_file).suffix.lower()\n",
    "    original_file_name = Path(original_audio_file).stem\n",
    "    uuid_filename = f\"{str(uuid.uuid4().hex)}{extension}\"\n",
    "\n",
    "    original_to_uuid[original_file_name] = uuid_filename\n",
    "\n",
    "    if not os.path.exists(UUID_DEST_DIR):\n",
    "        os.makedirs(UUID_DEST_DIR)\n",
    "\n",
    "    uuid_file_path = Path(UUID_DEST_DIR).joinpath(uuid_filename)\n",
    "\n",
    "    shutil.copy(original_audio_file, uuid_file_path.as_posix())\n"
   ]
  },
  {
   "cell_type": "code",
   "execution_count": 3,
   "metadata": {},
   "outputs": [],
   "source": [
    "# Update the audio_metadata_list with uuid_filename and transcription\n",
    "\n",
    "updated_columns = {\n",
    "    'segmented_filename': [],\n",
    "    'uuid_filename': [],\n",
    "    'reference_transcription': []\n",
    "}\n",
    "\n",
    "for seg_file_name_with_ext in audio_metadata_list['segmented_filename']:\n",
    "    seg_file_name = seg_file_name_with_ext.split('.')[0]\n",
    "    uuid_file_name = original_to_uuid[seg_file_name]\n",
    "    reference_transcription = ''\n",
    "\n",
    "    updated_columns['segmented_filename'].append(seg_file_name_with_ext)\n",
    "    updated_columns['uuid_filename'].append(uuid_file_name)\n",
    "    updated_columns['reference_transcription'].append(reference_transcription)\n",
    "\n",
    "# update the audio_metadata_list\n",
    "audio_metadata_list['segmented_filename'] = updated_columns['segmented_filename']\n",
    "audio_metadata_list['uuid_filename'] = updated_columns['uuid_filename']\n",
    "audio_metadata_list['reference_transcription'] = updated_columns['reference_transcription']"
   ]
  },
  {
   "cell_type": "code",
   "execution_count": 4,
   "metadata": {},
   "outputs": [],
   "source": [
    "audio_metadata_list.to_csv('/Users/zawhtetaung/Downloads/q2_segmented_audio_list_with_uuid.csv', index=False)"
   ]
  },
  {
   "cell_type": "code",
   "execution_count": 5,
   "metadata": {},
   "outputs": [],
   "source": [
    "def split(a, n):\n",
    "    k, m = divmod(len(a), n)\n",
    "    return (a[i*k+min(i, m):(i+1)*k+min(i+1, m)] for i in range(n))\n",
    "\n",
    "assigned_audios = split(audio_files, len(usernames))"
   ]
  },
  {
   "cell_type": "code",
   "execution_count": null,
   "metadata": {},
   "outputs": [],
   "source": [
    "# Upload the audio files one by one\n",
    "for username, assigned_audio in zip(usernames, assigned_audios):\n",
    "    for audio_name in assigned_audio:\n",
    "        files = sub_audio_files[audio_name]\n",
    "        files.sort()\n",
    "        for file in files:\n",
    "            audio_path = Path(file)\n",
    "            audio_filename = audio_path.name\n",
    "            start_time = audio_metadata_list[audio_metadata_list['segmented_filename'] == audio_filename].start_time.values[0]\n",
    "            end_time = audio_metadata_list[audio_metadata_list['segmented_filename'] == audio_filename].end_time.values[0]\n",
    "\n",
    "            if audio_path.is_file():\n",
    "                audio_obj = open(audio_path.resolve(), \"rb\")\n",
    "            else:\n",
    "                print(\"Audio file does not exist\")\n",
    "                exit()\n",
    "\n",
    "            file = {\"audio_file\": (audio_filename, audio_obj)}\n",
    "\n",
    "            values = {\n",
    "                \"reference_transcription\": reference_transcription,\n",
    "                \"username\": username,\n",
    "                \"segmentations\": segmentations,\n",
    "                \"is_marked_for_review\": is_marked_for_review,\n",
    "                \"youtube_start_time\": start_time,\n",
    "                \"youtube_end_time\": end_time\n",
    "            }\n",
    "\n",
    "            print(\"Creating datapoint\")\n",
    "            response = requests.post(\n",
    "                f\"http://{host}/api/data\", files=file, data=values, headers=headers\n",
    "            )\n",
    "\n",
    "            if response.status_code == 201:\n",
    "                response_json = response.json()\n",
    "                print(f\"Message: {response_json['message']}\")\n",
    "            else:\n",
    "                print(f\"Error Code: {response.status_code}\")\n",
    "                response_json = response.json()\n",
    "                print(f\"Message: {response_json['message']}\")"
   ]
  },
  {
   "cell_type": "code",
   "execution_count": 11,
   "metadata": {},
   "outputs": [
    {
     "name": "stdout",
     "output_type": "stream",
     "text": [
      "20732\n",
      "20732\n",
      "Creating dataset\n",
      "Error Code: 502\n",
      "21365\n",
      "21365\n",
      "Creating dataset\n",
      "Error Code: 502\n",
      "18862\n",
      "18862\n",
      "Creating dataset\n",
      "Error Code: 502\n",
      "19463\n",
      "19463\n",
      "Creating dataset\n",
      "Error Code: 502\n"
     ]
    }
   ],
   "source": [
    "# Upload the audio files metadata in one go\n",
    "for username, assigned_audio in zip(usernames, assigned_audios):\n",
    "    audio_filenames = []\n",
    "    uuid_filenames = []\n",
    "    reference_transcriptions = []\n",
    "    start_times = []\n",
    "    end_times = []\n",
    "\n",
    "    for audio_name in assigned_audio:\n",
    "        files = sub_audio_files[audio_name]\n",
    "        for file in files:\n",
    "            audio_path = Path(file)\n",
    "            audio_filename = audio_path.name\n",
    "            uuid_filename = audio_metadata_list[audio_metadata_list['segmented_filename'] == audio_filename].uuid_filename.values[0]\n",
    "            reference_transcription = audio_metadata_list[audio_metadata_list['segmented_filename'] == audio_filename].reference_transcription.values[0]\n",
    "            start_time = audio_metadata_list[audio_metadata_list['segmented_filename'] == audio_filename].start_time.values[0]\n",
    "            end_time = audio_metadata_list[audio_metadata_list['segmented_filename'] == audio_filename].end_time.values[0]\n",
    "            \n",
    "            audio_filenames.append(audio_filename)\n",
    "            uuid_filenames.append(uuid_filename)\n",
    "            reference_transcriptions.append(reference_transcription)\n",
    "            start_times.append(start_time)\n",
    "            end_times.append(end_time)\n",
    "\n",
    "    print(len(audio_filenames))\n",
    "    print(len(uuid_filenames))\n",
    "\n",
    "    values = {\n",
    "        \"reference_transcriptions\": reference_transcriptions,\n",
    "        \"username\": username,\n",
    "        \"audio_filenames\": audio_filenames,\n",
    "        \"uuid_filenames\": uuid_filenames,\n",
    "        \"youtube_start_times\": start_times,\n",
    "        \"youtube_end_times\": end_times\n",
    "    }\n",
    "\n",
    "    print(\"Creating dataset\")\n",
    "    response = requests.post(\n",
    "        f\"https://{host}/api/register-dataset\", data=values, headers=headers\n",
    "    )\n",
    "\n",
    "    if response.status_code == 201:\n",
    "        print(f\"Message: success\")\n",
    "    else:\n",
    "        print(f\"Error Code: {response.status_code}\")"
   ]
  }
 ],
 "metadata": {
  "kernelspec": {
   "display_name": "Python 3 (ipykernel)",
   "language": "python",
   "name": "python3"
  },
  "language_info": {
   "codemirror_mode": {
    "name": "ipython",
    "version": 3
   },
   "file_extension": ".py",
   "mimetype": "text/x-python",
   "name": "python",
   "nbconvert_exporter": "python",
   "pygments_lexer": "ipython3",
   "version": "3.10.8"
  },
  "vscode": {
   "interpreter": {
    "hash": "ab273bb029fb620564cc94280209305564adbd1542546e9daf4844c3f4ce9d1a"
   }
  }
 },
 "nbformat": 4,
 "nbformat_minor": 4
}
